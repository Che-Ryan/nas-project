{
 "cells": [
  {
   "cell_type": "code",
   "execution_count": 1,
   "metadata": {},
   "outputs": [],
   "source": [
    "import nltk\n",
    "import os\n",
    "import pickle\n",
    "import pandas as pd\n",
    "from sklearn.cluster import DBSCAN\n",
    "from sklearn.cluster import KMeans\n",
    "from sklearn.metrics.pairwise import cosine_similarity\n",
    "from sklearn.feature_extraction.text import TfidfVectorizer\n",
    "from PyRouge.pyrouge import Rouge"
   ]
  },
  {
   "cell_type": "code",
   "execution_count": 2,
   "metadata": {},
   "outputs": [],
   "source": [
    "with open('pickles/test.pickle','rb') as data:\n",
    "    df = pickle.load(data)"
   ]
  },
  {
   "cell_type": "code",
   "execution_count": 3,
   "metadata": {},
   "outputs": [],
   "source": [
    "def summarize(triplets,sentences,processed_sentences):\n",
    "    \n",
    "    tfidf = TfidfVectorizer(encoding = 'utf-8',\n",
    "                        stop_words = None,\n",
    "                        lowercase = False,\n",
    "                        min_df = 1,\n",
    "                        max_df = 1.0,\n",
    "                        norm = 'l2',\n",
    "                        sublinear_tf = True)\n",
    "    inp = pd.Series(triplets)\n",
    "    features = tfidf.fit_transform(inp).todense()\n",
    "    \n",
    "    \n",
    "    n = len(features)//3\n",
    "    model = KMeans(n_clusters=n, init='k-means++', max_iter=50, n_init=10)\n",
    "    model.fit(features)\n",
    "    clusters = model.labels_.tolist()\n",
    "\n",
    "    sent_dict = {}\n",
    "    for i,sentence in enumerate(sentences):\n",
    "        sent_dict[i] = {}\n",
    "        sent_dict[i]['text'] = sentence\n",
    "        sent_dict[i]['processed'] = processed_sentences[i]\n",
    "        sent_dict[i]['cluster'] = clusters[i]\n",
    "\n",
    "    clus_dict = {}\n",
    "    for i,value in sent_dict.items():\n",
    "        if value['cluster'] not in clus_dict:\n",
    "            clus_dict[value['cluster']] = []\n",
    "        clus_dict[value['cluster']].append(value['processed'])\n",
    "        value['idx'] = len(clus_dict[value['cluster']])-1\n",
    "\n",
    "    max_cos_score = {}\n",
    "    for i,value in clus_dict.items():\n",
    "        max_cos_score[i] = {}\n",
    "        max_cos_score[i]['score'] = 0\n",
    "        tfidf_matrix = tfidf.fit_transform(value)\n",
    "        cos_sim_matrix = cosine_similarity(tfidf_matrix)\n",
    "        for idx,row in enumerate(cos_sim_matrix):\n",
    "            sum = 0\n",
    "            for col in row:\n",
    "                sum += col\n",
    "            if sum>=max_cos_score[i]['score']:\n",
    "                max_cos_score[i]['score'] = sum\n",
    "                max_cos_score[i]['idx'] = idx\n",
    "\n",
    "    result_index = []\n",
    "    for i,value in max_cos_score.items():\n",
    "        cluster = i\n",
    "        idx = value['idx']\n",
    "        for key,val in sent_dict.items():\n",
    "            if val['cluster'] == cluster and val['idx'] == idx:\n",
    "                result_index.append(key)\n",
    "\n",
    "    result_index.sort()\n",
    "\n",
    "    summary = ''\n",
    "    for idx in result_index:\n",
    "        summary += sentences[idx] + ' '\n",
    "        \n",
    "    return summary"
   ]
  },
  {
   "cell_type": "code",
   "execution_count": 4,
   "metadata": {},
   "outputs": [],
   "source": [
    "summary_set = []\n",
    "sentences = df['Sentences'].tolist()\n",
    "triplets = df['Triplets'].tolist()\n",
    "processed_sentences = df['Processed'].tolist()\n",
    "for i in range(len(sentences)):\n",
    "    summary_set.append(summarize(triplets[i],sentences[i],processed_sentences[i]))"
   ]
  },
  {
   "cell_type": "code",
   "execution_count": 5,
   "metadata": {},
   "outputs": [],
   "source": [
    "def evaluate(cand_summary,ref_summary):\n",
    "    rouge = Rouge()\n",
    "    precision = []\n",
    "    recall = []\n",
    "    f_score = []\n",
    "    for i in range(len(cand_summary)):\n",
    "        [p,r,f] = rouge.rouge_l(cand_summary[i],ref_summary[i])\n",
    "        precision.append(p)\n",
    "        recall.append(r)\n",
    "        f_score.append(f)\n",
    "        if i%10==0:\n",
    "            print(str(i)+\"/\"+str(len(cand_summary))+\" completed\")\n",
    "    \n",
    "    avg_precision = sum(precision)/len(precision)\n",
    "    avg_recall = sum(recall)/len(recall)\n",
    "    avg_fscore = sum(f_score)/len(f_score)\n",
    "    \n",
    "    return avg_precision,avg_recall,avg_fscore"
   ]
  },
  {
   "cell_type": "code",
   "execution_count": 6,
   "metadata": {},
   "outputs": [
    {
     "name": "stdout",
     "output_type": "stream",
     "text": [
      "0/100 completed\n",
      "10/100 completed\n",
      "20/100 completed\n",
      "30/100 completed\n",
      "40/100 completed\n",
      "50/100 completed\n",
      "60/100 completed\n",
      "70/100 completed\n",
      "80/100 completed\n",
      "90/100 completed\n",
      "Average Precision is :0.9711070159332471\n",
      "Average Recall is :0.7145002985323772\n",
      "Average F Score is :0.8145491700741876\n"
     ]
    }
   ],
   "source": [
    "precision,recall,f_score = evaluate(summary_set,df['Summary'])\n",
    "print(\"Average Precision is :\"+str(precision)+\"\\nAverage Recall is :\"+str(recall)+\"\\nAverage F Score is :\"+str(f_score))"
   ]
  },
  {
   "cell_type": "code",
   "execution_count": 13,
   "metadata": {},
   "outputs": [
    {
     "name": "stdout",
     "output_type": "stream",
     "text": [
      "Strong demand triggers oil rally.\n",
      "Crude oil prices surged back above the $47 a barrel mark on Thursday after an energy market watchdog raised its forecasts for global demand.\n",
      "\n",
      "The International Energy Agency (IEA) warned demand for Opec's crude in the first quarter would outstrip supply. The IEA raised its estimate of 2005 oil demand growth by 80,000 barrels a day to 84 million barrels a day. US light crude rose $1.64 to $47.10, while Brent crude in London gained $1.32 to $44.45.\n",
      "\n",
      "The Paris-based IEA watchdog, which advises industrialized nations on energy policy, said the upward revision was due to stronger demand from China and other Asian countries. The fresh rally in crude prices followed gains on Wednesday which were triggered by large falls in US crude supplies following a cold spell in North America in January. The US Department of Energy reported that crude stockpiles had fallen 1m barrels to 294.3m. On top of that, ongoing problems for beleaguered Russian oil giant Yukos have also prompted the IEA to revise its output estimates from Russia - a major non-Opec supplier. \"I think that prices are now beginning to set a new range and it looks like the $40 to $50 level,\" said energy analyst Orin Middleton of Barclays Capital.\n",
      "\n"
     ]
    }
   ],
   "source": [
    "print(df['Content'][17])"
   ]
  },
  {
   "cell_type": "code",
   "execution_count": 12,
   "metadata": {},
   "outputs": [
    {
     "name": "stdout",
     "output_type": "stream",
     "text": [
      "Crude oil prices surged back above the $47 a barrel mark on Thursday after an energy market watchdog raised its forecasts for global demand. The International Energy Agency (IEA) warned demand for Opec's crude in the first quarter would outstrip supply. The fresh rally in crude prices followed gains on Wednesday which were triggered by large falls in US crude supplies following a cold spell in North America in January. \n"
     ]
    }
   ],
   "source": [
    "print(summary_set[17])        #generated summary"
   ]
  },
  {
   "cell_type": "code",
   "execution_count": 11,
   "metadata": {},
   "outputs": [
    {
     "name": "stdout",
     "output_type": "stream",
     "text": [
      "Crude oil prices surged back above the $47 a barrel mark on Thursday after an energy market watchdog raised its forecasts for global demand.The US Department of Energy reported that crude stockpiles had fallen 1m barrels to 294.3m.The International Energy Agency (IEA) warned demand for Opec's crude in the first quarter would outstrip supply.The IEA raised its estimate of 2005 oil demand growth by 80,000 barrels a day to 84 million barrels a day.\n"
     ]
    }
   ],
   "source": [
    "print(df['Summary'][17])       #reference summary from dataset"
   ]
  },
  {
   "cell_type": "code",
   "execution_count": null,
   "metadata": {},
   "outputs": [],
   "source": [
    "# Ignore the below cells (Failed DBSCAN)\n",
    "\n",
    "ep = 1.2\n",
    "min_samples = 3\n",
    "\n",
    "dbscan = DBSCAN(eps=ep,min_samples=min_samples)\n",
    "\n",
    "db = dbscan.fit(features)\n",
    "\n",
    "db.labels_"
   ]
  }
 ],
 "metadata": {
  "kernelspec": {
   "display_name": "Python 3",
   "language": "python",
   "name": "python3"
  },
  "language_info": {
   "codemirror_mode": {
    "name": "ipython",
    "version": 3
   },
   "file_extension": ".py",
   "mimetype": "text/x-python",
   "name": "python",
   "nbconvert_exporter": "python",
   "pygments_lexer": "ipython3",
   "version": "3.7.7"
  }
 },
 "nbformat": 4,
 "nbformat_minor": 4
}
