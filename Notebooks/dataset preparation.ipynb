{
 "cells": [
  {
   "cell_type": "code",
   "execution_count": 1,
   "metadata": {},
   "outputs": [],
   "source": [
    "import os\n",
    "import pandas as pd\n",
    "\n",
    "location_x = 'dataset1\\\\News Articles'\n",
    "location_y = 'dataset1\\\\Summaries'\n",
    "topics = os.listdir(location_x)\n",
    "data = []\n",
    "\n",
    "for topic in topics:\n",
    "    loc_x = os.path.join(location_x,topic)\n",
    "    loc_y = os.path.join(location_y,topic)\n",
    "    files = os.listdir(loc_x)\n",
    "    for file in files:\n",
    "        file_loc_x = os.path.join(loc_x,file)\n",
    "        file_loc_y = os.path.join(loc_y,file)\n",
    "        fx = open(file_loc_x,'r')\n",
    "        fy = open(file_loc_y,'r')\n",
    "        content = fx.read()\n",
    "        summary = fy.read()\n",
    "        fx.close()\n",
    "        fy.close()\n",
    "        content = content.replace('\\n','.',1)\n",
    "        category = topic\n",
    "        data.append([content,summary,category])\n",
    "\n",
    "dataset = pd.DataFrame(data, columns=['Content','Summary','Category'])\n",
    "dataset.to_csv('dataset\\\\dataset.csv')"
   ]
  },
  {
   "cell_type": "code",
   "execution_count": null,
   "metadata": {},
   "outputs": [],
   "source": []
  }
 ],
 "metadata": {
  "kernelspec": {
   "display_name": "Python 3",
   "language": "python",
   "name": "python3"
  },
  "language_info": {
   "codemirror_mode": {
    "name": "ipython",
    "version": 3
   },
   "file_extension": ".py",
   "mimetype": "text/x-python",
   "name": "python",
   "nbconvert_exporter": "python",
   "pygments_lexer": "ipython3",
   "version": "3.7.7"
  }
 },
 "nbformat": 4,
 "nbformat_minor": 4
}
