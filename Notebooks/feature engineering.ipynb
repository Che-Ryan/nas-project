{
 "cells": [
  {
   "cell_type": "code",
   "execution_count": 1,
   "metadata": {},
   "outputs": [],
   "source": [
    "import pandas as pd\n",
    "import nltk\n",
    "from nltk.corpus import stopwords\n",
    "from nltk.stem import WordNetLemmatizer\n",
    "from sklearn.model_selection import train_test_split\n",
    "from sklearn.feature_extraction.text import TfidfVectorizer\n",
    "import pickle"
   ]
  },
  {
   "cell_type": "code",
   "execution_count": 2,
   "metadata": {},
   "outputs": [
    {
     "name": "stderr",
     "output_type": "stream",
     "text": [
      "[nltk_data] Downloading package wordnet to\n",
      "[nltk_data]     C:\\Users\\cheri\\AppData\\Roaming\\nltk_data...\n",
      "[nltk_data]   Package wordnet is already up-to-date!\n",
      "[nltk_data] Downloading package stopwords to\n",
      "[nltk_data]     C:\\Users\\cheri\\AppData\\Roaming\\nltk_data...\n",
      "[nltk_data]   Package stopwords is already up-to-date!\n"
     ]
    },
    {
     "data": {
      "text/plain": [
       "True"
      ]
     },
     "execution_count": 2,
     "metadata": {},
     "output_type": "execute_result"
    }
   ],
   "source": [
    "nltk.download('wordnet')\n",
    "nltk.download('stopwords')"
   ]
  },
  {
   "cell_type": "code",
   "execution_count": 3,
   "metadata": {},
   "outputs": [],
   "source": [
    "def content_parsing(df): \n",
    "\n",
    "    #removing carriage returns, line breaks, quotaion marks, possesive \"'s\".\n",
    "\n",
    "    df['Content_parsed'] = df['Content']\n",
    "    df['Content_parsed'] = df['Content_parsed'].str.replace('\\r',' ')\n",
    "    df['Content_parsed'] = df['Content_parsed'].str.replace('\\n',' ')\n",
    "    df['Content_parsed'] = df['Content_parsed'].str.replace('\\\\s+',' ')\n",
    "    df['Content_parsed'] = df['Content_parsed'].str.replace('\"','')\n",
    "    df['Content_parsed'] = df['Content_parsed'].str.replace(\"'s\",\"\")\n",
    "\n",
    "    #converting whole text to lower case.\n",
    "\n",
    "    df['Content_parsed'] = df['Content_parsed'].str.lower()\n",
    "\n",
    "    #removing special characters and punctuations.\n",
    "\n",
    "    for sign in list(\"?!,.:;\"):\n",
    "        df['Content_parsed'] = df['Content_parsed'].str.replace(sign,'')\n",
    "\n",
    "    #lemmatizing the text using wordnet lemmatizer.\n",
    "\n",
    "    lemmatizer = WordNetLemmatizer()\n",
    "    rows = len(df)\n",
    "    lemmatized_text_list = []\n",
    "\n",
    "    for row in range(0,rows):\n",
    "\n",
    "        lemmatized_list = []\n",
    "        words = df['Content_parsed'][row].split(\" \")\n",
    "\n",
    "        for word in words:\n",
    "            lemmatized_list.append(lemmatizer.lemmatize(word,pos='v'))\n",
    "\n",
    "        lemmatized_text = \" \".join(lemmatized_list)\n",
    "        lemmatized_text_list.append(lemmatized_text)\n",
    "\n",
    "    df['Content_parsed'] = lemmatized_text_list\n",
    "\n",
    "    #removing stop words.\n",
    "\n",
    "    stop_words = list(stopwords.words('english'))\n",
    "\n",
    "    for stop_word in stop_words:\n",
    "        regex_stop = r\"\\b\" + stop_word + r\"\\b\"\n",
    "        df['Content_parsed'] = df['Content_parsed'].str.replace(regex_stop,'')\n",
    "\n",
    "    #removing extra spaces\n",
    "\n",
    "    df['Content_parsed'] = df['Content_parsed'].str.replace('\\\\s+',' ')\n",
    "    cols_list = ['Content','Summary','Content_parsed','Category']\n",
    "    df = df[cols_list]\n",
    "    \n",
    "    #assigning category code for each category\n",
    "\n",
    "    category_codes = {\n",
    "        'business':0,\n",
    "        'entertainment':1,\n",
    "        'politics':2,\n",
    "        'sport':3,\n",
    "        'tech':4\n",
    "    }\n",
    "\n",
    "    df['Category_code'] = df['Category']\n",
    "    df = df.replace({'Category_code':category_codes})\n",
    "    \n",
    "    return df"
   ]
  },
  {
   "cell_type": "code",
   "execution_count": 4,
   "metadata": {},
   "outputs": [],
   "source": [
    "df = pd.read_csv('dataset\\\\dataset.csv')\n",
    "df = content_parsing(df)\n",
    "\n",
    "x_train, x_test, y_train, y_test = train_test_split(df['Content_parsed'],df['Category_code'],test_size=0.15,random_state=12)\n",
    "\n",
    "#vectorizing the text using TF-IDF vectorizer\n",
    "\n",
    "#setting the parameters\n",
    "\n",
    "ngram_range = (1,2)\n",
    "min_df = 10\n",
    "max_df = 1.0 \n",
    "max_features = 300\n",
    "\n",
    "tfidf = TfidfVectorizer(encoding = 'utf-8',\n",
    "                        ngram_range = ngram_range,\n",
    "                        stop_words = None,\n",
    "                        lowercase = False,\n",
    "                        min_df = min_df,\n",
    "                        max_df = max_df,\n",
    "                        max_features = max_features,\n",
    "                        norm = 'l2',\n",
    "                        sublinear_tf = True)\n",
    "\n",
    "features_train = tfidf.fit_transform(x_train).toarray()\n",
    "labels_train = y_train\n",
    "features_test = tfidf.transform(x_test).toarray()\n",
    "labels_test = y_test\n",
    "\n",
    "with open('pickles/df.pickle', 'wb') as output:\n",
    "    pickle.dump(df, output)\n",
    "    \n",
    "with open('pickles/features_train.pickle', 'wb') as output:\n",
    "    pickle.dump(features_train, output)\n",
    "    \n",
    "with open('pickles/labels_train.pickle', 'wb') as output:\n",
    "    pickle.dump(labels_train, output)\n",
    "    \n",
    "with open('pickles/features_test.pickle', 'wb') as output:\n",
    "    pickle.dump(features_test, output)\n",
    "    \n",
    "with open('pickles/labels_test.pickle', 'wb') as output:\n",
    "    pickle.dump(labels_test, output)\n",
    "    \n",
    "with open('pickles/tfidf.pickle', 'wb') as output:\n",
    "    pickle.dump(tfidf, output)"
   ]
  },
  {
   "cell_type": "code",
   "execution_count": null,
   "metadata": {},
   "outputs": [],
   "source": []
  }
 ],
 "metadata": {
  "kernelspec": {
   "display_name": "Python 3",
   "language": "python",
   "name": "python3"
  },
  "language_info": {
   "codemirror_mode": {
    "name": "ipython",
    "version": 3
   },
   "file_extension": ".py",
   "mimetype": "text/x-python",
   "name": "python",
   "nbconvert_exporter": "python",
   "pygments_lexer": "ipython3",
   "version": "3.7.7"
  }
 },
 "nbformat": 4,
 "nbformat_minor": 4
}
