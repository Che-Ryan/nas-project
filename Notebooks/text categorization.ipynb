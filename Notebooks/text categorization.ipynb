{
 "cells": [
  {
   "cell_type": "code",
   "execution_count": 2,
   "metadata": {},
   "outputs": [
    {
     "name": "stdout",
     "output_type": "stream",
     "text": [
      "The result is :\n",
      "business\n",
      "With probability:\n",
      "99.35764803673919\n"
     ]
    },
    {
     "name": "stderr",
     "output_type": "stream",
     "text": [
      "[nltk_data] Downloading package wordnet to\n",
      "[nltk_data]     C:\\Users\\cheri\\AppData\\Roaming\\nltk_data...\n",
      "[nltk_data]   Package wordnet is already up-to-date!\n",
      "[nltk_data] Downloading package stopwords to\n",
      "[nltk_data]     C:\\Users\\cheri\\AppData\\Roaming\\nltk_data...\n",
      "[nltk_data]   Package stopwords is already up-to-date!\n"
     ]
    }
   ],
   "source": [
    "import pandas as pd\n",
    "import nltk\n",
    "from nltk.corpus import stopwords\n",
    "from nltk.stem import WordNetLemmatizer\n",
    "from sklearn.feature_extraction.text import TfidfVectorizer\n",
    "import pickle\n",
    "\n",
    "nltk.download('wordnet')\n",
    "nltk.download('stopwords')\n",
    "\n",
    "with open('pickles\\\\tfidf.pickle','rb') as data:\n",
    "    tfidf = pickle.load(data)\n",
    "    \n",
    "with open('models\\\\svm.pickle','rb') as data:\n",
    "    svm = pickle.load(data)\n",
    "\n",
    "#tranforms the text into features.\n",
    "\n",
    "def transform_text(txt):\n",
    "    df = pd.DataFrame([txt],columns=['Content'])\n",
    "    signs = list(\"?!,.:;\")\n",
    "    lemmatizer = WordNetLemmatizer()\n",
    "    lemmatized_list = []\n",
    "    stop_words = list(stopwords.words('english'))\n",
    "    df['Content_parsed'] = df['Content'].str.replace('\\r',' ')\n",
    "    df['Content_parsed'] = df['Content_parsed'].str.replace('\\n',' ')\n",
    "    df['Content_parsed'] = df['Content_parsed'].str.replace('   ',' ')\n",
    "    df['Content_parsed'] = df['Content_parsed'].str.replace('  ',' ')\n",
    "    df['Content_parsed'] = df['Content_parsed'].str.replace('\"','')\n",
    "    df['Content_parsed'] = df['Content_parsed'].str.lower()\n",
    "    for sign in signs:\n",
    "        df['Content_parsed'] = df['Content_parsed'].str.replace(sign,'')\n",
    "    df['Content_parsed'] = df['Content_parsed'].str.replace(\"'s\",\"\")\n",
    "    words = df['Content_parsed'][0].split(\" \")\n",
    "    for word in words:\n",
    "        lemmatized_list.append(lemmatizer.lemmatize(word,pos='v'))\n",
    "    lemmatized_text = \" \".join(lemmatized_list)\n",
    "    df['Content_parsed'] = lemmatized_text\n",
    "    for stop_word in stop_words:\n",
    "        regex_stop = r\"\\b\" + stop_word + r\"\\b\"\n",
    "        df['Content_parsed'] = df['Content_parsed'].str.replace(regex_stop,'')\n",
    "    df['Content_parsed'] = df['Content_parsed'].str.replace('\\\\s+',' ')\n",
    "    features = tfidf.transform(df['Content_parsed']).toarray()\n",
    "    return features\n",
    "\n",
    "#get the category name from predicted category code\n",
    "\n",
    "def get_category(code):\n",
    "    cat_code = {\n",
    "    0:'business',\n",
    "    1:'entertainment',\n",
    "    2:'politics',\n",
    "    3:'sport',\n",
    "    4:'tech'}\n",
    "    return cat_code[code]\n",
    "\n",
    "#predicting the category\n",
    "\n",
    "def predict_cat(txt):\n",
    "    for_pred = transform_text(txt)\n",
    "    result = get_category(svm.predict(for_pred)[0])\n",
    "    prob = svm.predict_proba(for_pred)[0].max()*100\n",
    "    if(prob<65):\n",
    "        result = 'other'\n",
    "    print('The result is :')\n",
    "    print(result)\n",
    "    print('With probability:')\n",
    "    print(prob)\n",
    "        \n",
    "\n",
    "if __name__=='__main__':\n",
    "    txt = \"\"\"Following yesterday's trend, global spot prices continued its growth today as well. It was clocked at $1875.7 per Troy ounce in the latest close which noted an increase of 0.33% over yesterday. This price level is 7.25% higher than average gold price observed in the past 30 days ($1739.7). Among other precious metals, silver prices edged higher today. Silver gained 0.03% to $27.8 per Troy ounce.\n",
    "\n",
    "Further, platinum price has shown an uptick. The precious metal platinum rose 0.5% to $1198.5 per Troy ounce. Meanwhile in India, gold was priced at ₹48525 per 10 gram on MCX, with a change of ₹135.9. Also, the price of 24k gold in the Indian spot market was quoted at ₹47000 . \"\"\"\n",
    "    predict_cat(txt)"
   ]
  },
  {
   "cell_type": "code",
   "execution_count": null,
   "metadata": {},
   "outputs": [],
   "source": []
  }
 ],
 "metadata": {
  "kernelspec": {
   "display_name": "Python 3",
   "language": "python",
   "name": "python3"
  },
  "language_info": {
   "codemirror_mode": {
    "name": "ipython",
    "version": 3
   },
   "file_extension": ".py",
   "mimetype": "text/x-python",
   "name": "python",
   "nbconvert_exporter": "python",
   "pygments_lexer": "ipython3",
   "version": "3.7.7"
  }
 },
 "nbformat": 4,
 "nbformat_minor": 4
}
